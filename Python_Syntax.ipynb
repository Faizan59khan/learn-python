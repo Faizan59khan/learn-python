{
  "cells": [
    {
      "cell_type": "markdown",
      "metadata": {
        "id": "J0DJaFOHlYM7"
      },
      "source": [
        "# MUHAMMAD FAIZAN\n"
      ]
    },
    {
      "cell_type": "markdown",
      "metadata": {
        "id": "q2LrW0CflYNF"
      },
      "source": [
        "# VARIABLES\n"
      ]
    },
    {
      "cell_type": "code",
      "execution_count": null,
      "metadata": {
        "id": "6H-6TK-xlYNH",
        "outputId": "3cef338c-0937-4f5d-bfdf-94b54e14f8fc"
      },
      "outputs": [
        {
          "name": "stdout",
          "output_type": "stream",
          "text": [
            "Enter Radius : 2\n",
            "12\n"
          ]
        }
      ],
      "source": [
        "r=input(\"Enter Radius : \")  #we can take input in varibales\n",
        "rad=int(r)                  #converting value as by def input takes string value.\n",
        "pi=int(3.14259)\n",
        "C_area=int((rad*rad)*pi)\n",
        "print(str(C_area))"
      ]
    },
    {
      "cell_type": "code",
      "execution_count": null,
      "metadata": {
        "id": "q8tW9P7wlYNJ",
        "outputId": "b5e696d7-06bb-421a-da73-9be6efc38139"
      },
      "outputs": [
        {
          "name": "stdout",
          "output_type": "stream",
          "text": [
            "3\n",
            "3\n",
            "faizan\n"
          ]
        }
      ],
      "source": [
        "x = str(3)    # x will be '3'\n",
        "y = int(3)    # y will be 3\n",
        "z = \"faizan\"\n",
        "print(x)\n",
        "print(y)\n",
        "print(z)"
      ]
    },
    {
      "cell_type": "markdown",
      "metadata": {
        "id": "ME9ykxF4lYNK"
      },
      "source": [
        "# LOOPS"
      ]
    },
    {
      "cell_type": "code",
      "execution_count": null,
      "metadata": {
        "id": "nqiVP0RPlYNK",
        "outputId": "428ab8c5-a8b6-4d97-a58f-19ceb47638f6"
      },
      "outputs": [
        {
          "name": "stdout",
          "output_type": "stream",
          "text": [
            "AI\n",
            "Data-Mining\n",
            "Networking\n"
          ]
        }
      ],
      "source": [
        "course = [\"AI\", \"Data-Mining\", \"Networking\"]\n",
        "for x in course:\n",
        "  print(x)"
      ]
    },
    {
      "cell_type": "code",
      "execution_count": null,
      "metadata": {
        "id": "du7p-1iclYNL",
        "outputId": "7561c902-7e95-40a9-d26b-8cb1198ae315"
      },
      "outputs": [
        {
          "name": "stdout",
          "output_type": "stream",
          "text": [
            "40\n"
          ]
        }
      ],
      "source": [
        "#Python program to sum all the numeric items in a list\n",
        "arr=[12,13,4,5,6]\n",
        "total=0;\n",
        "for i in range (len(arr)):\n",
        "    total=total+arr[i];\n",
        "print(total)"
      ]
    },
    {
      "cell_type": "code",
      "execution_count": null,
      "metadata": {
        "id": "Gj7YXWJ2lYNM",
        "outputId": "7fc6c332-de17-4e11-bce3-670dd9af1cb0"
      },
      "outputs": [
        {
          "name": "stdout",
          "output_type": "stream",
          "text": [
            "Position 0 = 2\n",
            "Position 3 = 3\n",
            "Position 4 = 4\n",
            "Position 5 = 2\n",
            "Position 6 = 1\n"
          ]
        }
      ],
      "source": [
        "#Take a list, say for example this one:\n",
        "# a = [1, 1, 2, 3, 5, 8, 13, 21, 34, 55, 89]\n",
        "#and write a program that prints out all the elements of the list that are\n",
        "#less than 5.\n",
        "a=[2,6,8,3,4,2,1]\n",
        "for i in range (len(a)):\n",
        "    if a[i]<5:\n",
        "        print(\"Position \"+str(i)+\" = \"+str(a[i]));  #we have to convert the value in str when using something with string."
      ]
    },
    {
      "cell_type": "markdown",
      "metadata": {
        "id": "hVkG0RCalYNM"
      },
      "source": [
        "# IF-ELSE-ELIF"
      ]
    },
    {
      "cell_type": "code",
      "execution_count": null,
      "metadata": {
        "id": "-M8Bmp1XlYNN",
        "outputId": "612207bf-8b1f-4502-e2be-01c5a826df2b"
      },
      "outputs": [
        {
          "name": "stdout",
          "output_type": "stream",
          "text": [
            "Enter your Percentage :%56\n",
            "C\n"
          ]
        }
      ],
      "source": [
        "per=int(input(\"Enter your Percentage :%\"))\n",
        "if per >= 80 and per <= 100:\n",
        "    print(\"A+\")\n",
        "elif per >=70 and per < 80 :\n",
        "    print(\"A\")\n",
        "elif per >=60 and per < 70 :\n",
        "    print(\"B\")\n",
        "elif per >=50 and per < 60 :\n",
        "    print(\"C\")\n",
        "elif per >=40 and per < 60 :\n",
        "    print(\"D\")\n",
        "elif per >=33 and per < 40 :\n",
        "    print(\"E\")\n",
        "elif per >=0 and per < 33 :\n",
        "    print(\"Fail\")\n",
        "else :\n",
        "    print(\"You have given inappropriate %\")"
      ]
    },
    {
      "cell_type": "code",
      "execution_count": null,
      "metadata": {
        "id": "cXeRd0JPlYNO",
        "outputId": "0932d4d0-2e87-4cb5-e6bd-1a42f7bb7218"
      },
      "outputs": [
        {
          "name": "stdout",
          "output_type": "stream",
          "text": [
            "Enter 1st no: 5\n",
            "Enter 2nd no: 6\n",
            "Python version 3\n"
          ]
        }
      ],
      "source": [
        "#Python version checking program:\n",
        "a=int(input(\"Enter 1st no: \"))\n",
        "b=int(input(\"Enter 2nd no: \"))\n",
        "c=a/b\n",
        "if c==a//b :\n",
        "    print(\"Python version 2\")\n",
        "else :\n",
        "    print(\"Python version 3\")"
      ]
    },
    {
      "cell_type": "markdown",
      "metadata": {
        "id": "jrG6lIiVlYNO"
      },
      "source": [
        "# DATA STRUCTURES ( List, Dictionary)"
      ]
    },
    {
      "cell_type": "code",
      "execution_count": null,
      "metadata": {
        "id": "GWZdz7KylYNR",
        "outputId": "ca1e4e6e-eb89-4368-ee45-6a4f4c376db3"
      },
      "outputs": [
        {
          "name": "stdout",
          "output_type": "stream",
          "text": [
            "['umer', 1234, 'avsd', False, 'khan']\n"
          ]
        }
      ],
      "source": [
        "#Phython :How array(Lists) work.\n",
        "arr=[\"umer\",1234,\"avsd\",False]\n",
        "arr.append(\"khan\")\n",
        "print(arr)"
      ]
    },
    {
      "cell_type": "code",
      "execution_count": null,
      "metadata": {
        "id": "R6vtIjnJlYNS",
        "outputId": "aed92c49-bd17-43b4-b4a0-58dee39a0133"
      },
      "outputs": [
        {
          "name": "stdout",
          "output_type": "stream",
          "text": [
            "['umer', 1234, 'faizan', 'avsd', False, 'khan']\n"
          ]
        }
      ],
      "source": [
        "arr.insert(2,\"faizan\")\n",
        "print(arr)"
      ]
    },
    {
      "cell_type": "code",
      "execution_count": null,
      "metadata": {
        "id": "gI3TpUEulYNT",
        "outputId": "797ff331-4a75-4b85-8f22-cc74669709b5"
      },
      "outputs": [
        {
          "name": "stdout",
          "output_type": "stream",
          "text": [
            "['umer', 1234, 'faizan', 'avsd', True, 'khan']\n"
          ]
        }
      ],
      "source": [
        "arr[4]=True\n",
        "print(arr)"
      ]
    },
    {
      "cell_type": "code",
      "execution_count": null,
      "metadata": {
        "id": "EtJeClo2lYNU",
        "outputId": "9322001c-12a3-4df2-8eb6-c00b2f43d23a"
      },
      "outputs": [
        {
          "name": "stdout",
          "output_type": "stream",
          "text": [
            "[1234, 'faizan', 'avsd']\n"
          ]
        }
      ],
      "source": [
        "arr1=arr[1:4]  #slicing\n",
        "print(arr1)"
      ]
    },
    {
      "cell_type": "code",
      "execution_count": null,
      "metadata": {
        "id": "0qzmVUG0lYNV",
        "outputId": "d42780ac-79b5-4a67-a63b-2f453262296b"
      },
      "outputs": [
        {
          "name": "stdout",
          "output_type": "stream",
          "text": [
            "['umer', 'faizan', 'avsd', True, 'khan']\n"
          ]
        }
      ],
      "source": [
        "del arr[1]\n",
        "print(arr)"
      ]
    },
    {
      "cell_type": "code",
      "execution_count": null,
      "metadata": {
        "id": "fGoGG1XklYNV",
        "outputId": "b86d00f8-1b0f-4fae-99b5-adef05cecfff"
      },
      "outputs": [
        {
          "name": "stdout",
          "output_type": "stream",
          "text": [
            "['umer', 'faizan', True, 'khan']\n"
          ]
        }
      ],
      "source": [
        "arr.remove(\"avsd\")\n",
        "print(arr)"
      ]
    },
    {
      "cell_type": "code",
      "execution_count": null,
      "metadata": {
        "id": "Zl0wa7b5lYNW",
        "outputId": "692d164f-b721-4122-e240-b72c857fd0fe"
      },
      "outputs": [
        {
          "name": "stdout",
          "output_type": "stream",
          "text": [
            "khan\n"
          ]
        }
      ],
      "source": [
        "arr3=arr.pop()\n",
        "print(arr3)"
      ]
    },
    {
      "cell_type": "code",
      "execution_count": null,
      "metadata": {
        "id": "4IwjeVRJlYNW",
        "outputId": "0a88451d-0cb6-4f0d-c5ac-487968c24c68"
      },
      "outputs": [
        {
          "name": "stdout",
          "output_type": "stream",
          "text": [
            "School has 12 Classes\n",
            "School has 15 Teachers\n",
            "School has 500 Students\n"
          ]
        }
      ],
      "source": [
        "#Python script to add a key to a dictionary\n",
        "School={\"Classes\":12, \"Teachers\":15, \"Students\":500}\n",
        "for each_Key,each_Value in School.items():\n",
        "    print(\"School has \"+str(each_Value)+\" \"+str(each_Key))"
      ]
    },
    {
      "cell_type": "code",
      "execution_count": null,
      "metadata": {
        "id": "6EJvf1rYlYNW",
        "outputId": "f99ea185-308a-4d07-9311-edc59ca042ab"
      },
      "outputs": [
        {
          "name": "stdout",
          "output_type": "stream",
          "text": [
            "sum of items in Dictionary is : 26\n"
          ]
        }
      ],
      "source": [
        "#Python program to sum all the numeric items in a dictionary\n",
        "dic1={\"item1\":5, \"item2\":6, \"item3\":3, \"item4\":12}\n",
        "sum1=0\n",
        "for i in dic1.values():\n",
        "    sum1=sum1+i\n",
        "print(\"sum of items in Dictionary is : \"+str(sum1))"
      ]
    },
    {
      "cell_type": "code",
      "execution_count": null,
      "metadata": {
        "id": "nlu_NPTwlYNX",
        "outputId": "b257876c-f326-4617-a0fe-8b87ff80350e"
      },
      "outputs": [
        {
          "name": "stdout",
          "output_type": "stream",
          "text": [
            "dict_keys([1, 2, 3, 4])\n"
          ]
        }
      ],
      "source": [
        "#Python script to add a key to a dictionary\n",
        "dic={1:\"Key1\",2:\"Key2\",3:\"Key3\"}\n",
        "dic[4]={\"Key4\"}\n",
        "print(dic.keys())"
      ]
    },
    {
      "cell_type": "code",
      "execution_count": null,
      "metadata": {
        "id": "NXcLSz4TlYNX",
        "outputId": "cdde4cbb-e6be-4d3a-a080-9a32462fc5a0"
      },
      "outputs": [
        {
          "name": "stdout",
          "output_type": "stream",
          "text": [
            "1: Who was the current Prime Minister Of Pakistan\n",
            "Nawaz Sharif\n",
            "Sheikh Rasheed\n",
            "Imran Khan\n",
            "Asif Zardari\n",
            "Imran Khan\n",
            "2: Who was the current Test Captain Of Pakistan\n",
            "Asad Shafiq\n",
            "Azhar Ali\n",
            "Sarfaraz Ahmed\n",
            "Babar Azam\n",
            "Babar Azam\n",
            "3: Who was the Founder Of Pakistan\n",
            "Nawaz Sharif\n",
            "QuaideAzam\n",
            "Imran Khan\n",
            "Allama Iqbal\n",
            "QuaideAzam\n",
            "Your Score is : 3\n",
            "Your Percentage is : 100.0\n"
          ]
        }
      ],
      "source": [
        "#Quiz Program:\n",
        "Questions=[               #Dictionary into list\n",
        "    {\n",
        "        \"S.no\":1,\n",
        "        \"Questions\":\"Who was the current Prime Minister Of Pakistan\",\n",
        "        \"Options\":[\"Nawaz Sharif\", \"Sheikh Rasheed\", \"Imran Khan\", \"Asif Zardari\"],\n",
        "        \"Result\":\"Imran Khan\"\n",
        "    },\n",
        "    {\n",
        "        \"S.no\":2,\n",
        "        \"Questions\":\"Who was the current Test Captain Of Pakistan\",\n",
        "        \"Options\":[\"Asad Shafiq\", \"Azhar Ali\", \"Sarfaraz Ahmed\", \"Babar Azam\"],\n",
        "        \"Result\":\"Babar Azam\"\n",
        "    },\n",
        "    {\n",
        "        \"S.no\":3,\n",
        "        \"Questions\":\"Who was the Founder Of Pakistan\",\n",
        "        \"Options\":[\"Nawaz Sharif\", \"QuaideAzam\", \"Imran Khan\", \"Allama Iqbal\"],\n",
        "        \"Result\":\"QuaideAzam\"\n",
        "    }\n",
        "]\n",
        "total_Mcqs=0\n",
        "score=0\n",
        "\n",
        "for i in Questions:\n",
        "    total_Mcqs+=1\n",
        "    data=str(i[\"S.no\"])+\": \"+i[\"Questions\"]+\"\\n\"+i[\"Options\"][0]+\"\\n\"+i[\"Options\"][1]+\"\\n\"+i[\"Options\"][2]+\"\\n\"+i[\"Options\"][3]+\"\\n\"\n",
        "    answer=input(data)\n",
        "    if answer == i[\"Result\"]:\n",
        "        score=score+1\n",
        "percentage=(score*100)/total_Mcqs\n",
        "print(\"Your Score is : \"+str(score))\n",
        "print(\"Your Percentage is : \"+str(percentage))"
      ]
    },
    {
      "cell_type": "markdown",
      "metadata": {
        "id": "UQt-WGhUlYNY"
      },
      "source": [
        "# FUNCTIONS"
      ]
    },
    {
      "cell_type": "code",
      "execution_count": null,
      "metadata": {
        "id": "qc5fRpO6lYNY",
        "outputId": "85bec2ae-8d39-497d-b314-8f8ee4edd5cc"
      },
      "outputs": [
        {
          "name": "stdout",
          "output_type": "stream",
          "text": [
            "Kashif has Uppercase character = 1 and Lowercase character = 5\n",
            "FAiZAn has Uppercase character = 4 and Lowercase character = 2\n"
          ]
        }
      ],
      "source": [
        "#Python function that accepts a string and calculate the number of uppercase letters and lower case letters.\n",
        "def split(word):\n",
        "    up_Case=0\n",
        "    lo_Case=0\n",
        "    for i in word:\n",
        "        if i>='A' and i<='Z':\n",
        "            up_Case=up_Case+1\n",
        "        elif i>='a'and i<='z':\n",
        "            lo_Case=lo_Case+1\n",
        "\n",
        "    print(\"{} has Uppercase character = {} and Lowercase character = {}\".format(word,up_Case,lo_Case))\n",
        "\n",
        "\n",
        "split(\"Kashif\")\n",
        "split(\"FAiZAn\")"
      ]
    },
    {
      "cell_type": "code",
      "execution_count": null,
      "metadata": {
        "id": "mP6I_lm5lYNY",
        "outputId": "e7458fe5-b85a-40fa-df9a-daaf0628a9db"
      },
      "outputs": [
        {
          "name": "stdout",
          "output_type": "stream",
          "text": [
            "Even no : 4\n",
            "Even no : 6\n",
            "Even no : 14\n"
          ]
        }
      ],
      "source": [
        "#Python function to print the even numbers from a given list.\n",
        "def even(list1):\n",
        "    for i in list1:\n",
        "        if i%2==0:\n",
        "            print(\"Even no : \"+str(i))\n",
        "\n",
        "numbersList=[23,4,6,5,14]\n",
        "even(numbersList)"
      ]
    },
    {
      "cell_type": "code",
      "execution_count": null,
      "metadata": {
        "id": "b7jdn1tOlYNZ"
      },
      "outputs": [],
      "source": []
    }
  ],
  "metadata": {
    "colab": {
      "provenance": []
    },
    "kernelspec": {
      "display_name": "Python 3",
      "language": "python",
      "name": "python3"
    },
    "language_info": {
      "codemirror_mode": {
        "name": "ipython",
        "version": 3
      },
      "file_extension": ".py",
      "mimetype": "text/x-python",
      "name": "python",
      "nbconvert_exporter": "python",
      "pygments_lexer": "ipython3",
      "version": "3.8.5"
    }
  },
  "nbformat": 4,
  "nbformat_minor": 0
}
