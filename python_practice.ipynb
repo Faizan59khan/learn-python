{
  "nbformat": 4,
  "nbformat_minor": 0,
  "metadata": {
    "colab": {
      "provenance": [],
      "toc_visible": true,
      "authorship_tag": "ABX9TyMWDtThOI1F8gjG1PAQ2ezP",
      "include_colab_link": true
    },
    "kernelspec": {
      "name": "python3",
      "display_name": "Python 3"
    },
    "language_info": {
      "name": "python"
    }
  },
  "cells": [
    {
      "cell_type": "markdown",
      "metadata": {
        "id": "view-in-github",
        "colab_type": "text"
      },
      "source": [
        "<a href=\"https://colab.research.google.com/github/Faizan59khan/learn-python/blob/master/python_practice.ipynb\" target=\"_parent\"><img src=\"https://colab.research.google.com/assets/colab-badge.svg\" alt=\"Open In Colab\"/></a>"
      ]
    },
    {
      "cell_type": "code",
      "source": [],
      "metadata": {
        "id": "IJGSgJf4A1aG"
      },
      "execution_count": null,
      "outputs": []
    },
    {
      "cell_type": "markdown",
      "source": [
        "**String Data Type In Python**"
      ],
      "metadata": {
        "id": "_FMigfGBBGYK"
      }
    },
    {
      "cell_type": "code",
      "source": [
        "name: str = \"faizan\"\n",
        "print(name)"
      ],
      "metadata": {
        "colab": {
          "base_uri": "https://localhost:8080/"
        },
        "id": "k3a9LD7GAeoW",
        "outputId": "7dd739e1-c161-43a5-a27b-76d018a37c3d"
      },
      "execution_count": null,
      "outputs": [
        {
          "output_type": "stream",
          "name": "stdout",
          "text": [
            "faizan\n"
          ]
        }
      ]
    },
    {
      "cell_type": "code",
      "source": [
        "print(type(name))"
      ],
      "metadata": {
        "id": "DskeW1nZAn3r",
        "colab": {
          "base_uri": "https://localhost:8080/"
        },
        "outputId": "7c5f23f4-2eb8-4b46-af85-7e1e810c64a2"
      },
      "execution_count": null,
      "outputs": [
        {
          "output_type": "stream",
          "name": "stdout",
          "text": [
            "<class 'str'>\n"
          ]
        }
      ]
    },
    {
      "cell_type": "code",
      "source": [
        "#ways to used string\n",
        "a=\"string\"\n",
        "b='string'\n",
        "c=\"\"\"string\"\"\""
      ],
      "metadata": {
        "id": "BML5K73hBbGk"
      },
      "execution_count": null,
      "outputs": []
    },
    {
      "cell_type": "code",
      "source": [
        "#Dictionary\n",
        "#key value pair\n",
        "#key replace index\n",
        "from typing import Dict, Union, Optional\n",
        "data: Dict[str,str]={\"name\": \"faizan\", \"age\": \"23\"}\n",
        "print(data)"
      ],
      "metadata": {
        "id": "g2TXcH9sBocC",
        "colab": {
          "base_uri": "https://localhost:8080/"
        },
        "outputId": "5d81bb7d-1445-44fa-d43c-f7470f24769a"
      },
      "execution_count": null,
      "outputs": [
        {
          "output_type": "stream",
          "name": "stdout",
          "text": [
            "{'name': 'faizan', 'age': '23'}\n"
          ]
        }
      ]
    },
    {
      "cell_type": "code",
      "source": [
        "# Define the custom types\n",
        "key = Union[str, int]\n",
        "value = Union[str, int, list, dict, set, tuple]\n",
        "\n",
        "# Create a variable of type Dict with key and value\n",
        "data2: Dict[key, value] = {\"name\": \"faizan\", \"age\": 23, \"hobbies\": [\"cricket\", \"movies\"]}\n",
        "print(data2)\n"
      ],
      "metadata": {
        "colab": {
          "base_uri": "https://localhost:8080/"
        },
        "id": "tSUafUoX87tB",
        "outputId": "6d04310d-3174-4b65-d55c-4d4340127c84"
      },
      "execution_count": null,
      "outputs": [
        {
          "output_type": "stream",
          "name": "stdout",
          "text": [
            "{'name': 'faizan', 'age': 23, 'hobbies': ['cricket', 'movies']}\n"
          ]
        }
      ]
    },
    {
      "cell_type": "code",
      "source": [
        "#give all public methods of data2\n",
        "[i for i in dir(data2) if  \"__\" not in i]"
      ],
      "metadata": {
        "colab": {
          "base_uri": "https://localhost:8080/"
        },
        "id": "EkNUNFz6-QVC",
        "outputId": "56ca1f3f-c29d-44bd-8491-e080ae175b5c"
      },
      "execution_count": null,
      "outputs": [
        {
          "output_type": "execute_result",
          "data": {
            "text/plain": [
              "['clear',\n",
              " 'copy',\n",
              " 'fromkeys',\n",
              " 'get',\n",
              " 'items',\n",
              " 'keys',\n",
              " 'pop',\n",
              " 'popitem',\n",
              " 'setdefault',\n",
              " 'update',\n",
              " 'values']"
            ]
          },
          "metadata": {},
          "execution_count": 16
        }
      ]
    },
    {
      "cell_type": "code",
      "source": [
        "# this will not give run time error if key is not present in data2\n",
        "data2.get(\"pakistan\",\"not available\")"
      ],
      "metadata": {
        "colab": {
          "base_uri": "https://localhost:8080/",
          "height": 35
        },
        "id": "Vi1NwWtEAdLD",
        "outputId": "39393a07-cecd-4cd1-92c1-3f1f54330589"
      },
      "execution_count": null,
      "outputs": [
        {
          "output_type": "execute_result",
          "data": {
            "text/plain": [
              "'not available'"
            ],
            "application/vnd.google.colaboratory.intrinsic+json": {
              "type": "string"
            }
          },
          "metadata": {},
          "execution_count": 18
        }
      ]
    },
    {
      "cell_type": "code",
      "source": [
        "for k,v in data2.items():\n",
        "  print(\"key\",k)\n",
        "  print (\"value\",v)"
      ],
      "metadata": {
        "colab": {
          "base_uri": "https://localhost:8080/"
        },
        "id": "enuWGuFFBfCl",
        "outputId": "18873a6e-7a14-4c61-b507-0a4184cc7636"
      },
      "execution_count": null,
      "outputs": [
        {
          "output_type": "stream",
          "name": "stdout",
          "text": [
            "key name\n",
            "value faizan\n",
            "key age\n",
            "value 23\n",
            "key hobbies\n",
            "value ['cricket', 'movies']\n"
          ]
        }
      ]
    },
    {
      "cell_type": "code",
      "source": [
        "from typing import Union, Optional, List\n",
        "\n",
        "def add_numbers(a: Union[int, float], b: Union[int, float]) -> float:\n",
        "    return a + b\n",
        "\n",
        "def get_name(prefix: str, suffix: Optional[str] = None) -> str:\n",
        "    if suffix is not None:\n",
        "        return f\"{prefix} {suffix}\"\n",
        "    else:\n",
        "        return prefix"
      ],
      "metadata": {
        "id": "VopSqvP1CGpo"
      },
      "execution_count": null,
      "outputs": []
    },
    {
      "cell_type": "code",
      "source": [
        "add_numbers(2,3)"
      ],
      "metadata": {
        "colab": {
          "base_uri": "https://localhost:8080/"
        },
        "id": "aWiT7aPKEHu-",
        "outputId": "70241888-5e71-4809-bc86-b8e259da7b6f"
      },
      "execution_count": null,
      "outputs": [
        {
          "output_type": "execute_result",
          "data": {
            "text/plain": [
              "5"
            ]
          },
          "metadata": {},
          "execution_count": 29
        }
      ]
    },
    {
      "cell_type": "code",
      "source": [
        "#List Comprehension\n",
        "[x**2 for x in range(1,11)]"
      ],
      "metadata": {
        "colab": {
          "base_uri": "https://localhost:8080/"
        },
        "id": "QMTyp27REMrc",
        "outputId": "1068bd04-a117-46af-d966-25f69f17ac08"
      },
      "execution_count": null,
      "outputs": [
        {
          "output_type": "execute_result",
          "data": {
            "text/plain": [
              "[1, 4, 9, 16, 25, 36, 49, 64, 81, 100]"
            ]
          },
          "metadata": {},
          "execution_count": 30
        }
      ]
    },
    {
      "cell_type": "code",
      "source": [
        "numbers: List[int] = [1, 2, 3, 4, 5, 6, 7, 8, 9, 10]\n",
        "even_numbers: List[int] = [x for x in numbers if x % 2 == 0]\n",
        "print(even_numbers)"
      ],
      "metadata": {
        "colab": {
          "base_uri": "https://localhost:8080/"
        },
        "id": "Kv_O6S0gEh4o",
        "outputId": "ec0fecf9-7950-4228-9f6b-b4eca819be46"
      },
      "execution_count": null,
      "outputs": [
        {
          "output_type": "stream",
          "name": "stdout",
          "text": [
            "[2, 4, 6, 8, 10]\n"
          ]
        }
      ]
    },
    {
      "cell_type": "code",
      "source": [
        "#for else loop\n",
        "for i in range(5):\n",
        "    print(i)\n",
        "else:\n",
        "    print(\"Loop completed without break\")"
      ],
      "metadata": {
        "colab": {
          "base_uri": "https://localhost:8080/"
        },
        "id": "leNerMcwErYw",
        "outputId": "b4bc5568-677e-4a4b-f84e-2051440a49d3"
      },
      "execution_count": null,
      "outputs": [
        {
          "output_type": "stream",
          "name": "stdout",
          "text": [
            "0\n",
            "1\n",
            "2\n",
            "3\n",
            "4\n",
            "Loop completed without break\n"
          ]
        }
      ]
    },
    {
      "cell_type": "code",
      "source": [
        "fruits: List[str] = [\"apple\", \"banana\", \"cherry\"]\n",
        "for fruit in fruits:\n",
        "    if fruit == \"kiwi\":\n",
        "        print(\"Found\")\n",
        "        break\n",
        "else:\n",
        "    print(\"Not found\")"
      ],
      "metadata": {
        "colab": {
          "base_uri": "https://localhost:8080/"
        },
        "id": "hsY9nzzlFD2s",
        "outputId": "d7600008-1eb9-4871-ede9-994b9c995d6c"
      },
      "execution_count": null,
      "outputs": [
        {
          "output_type": "stream",
          "name": "stdout",
          "text": [
            "Not found\n"
          ]
        }
      ]
    },
    {
      "cell_type": "code",
      "source": [
        "fruits = [\"apple\", \"banana\", \"kiwi\"]\n",
        "for fruit in fruits:\n",
        "    if fruit == \"kiwi\":\n",
        "        print(\"Found\")\n",
        "        break\n",
        "else:\n",
        "    print(\"Not found\")"
      ],
      "metadata": {
        "colab": {
          "base_uri": "https://localhost:8080/"
        },
        "id": "3Z7MYQaGFKF7",
        "outputId": "f3e1e7cb-bc71-4ed6-dd8f-c355dc120cb2"
      },
      "execution_count": null,
      "outputs": [
        {
          "output_type": "stream",
          "name": "stdout",
          "text": [
            "Found\n"
          ]
        }
      ]
    },
    {
      "cell_type": "code",
      "source": [
        "#zip function\n",
        "names: List[str] = [\"John\", \"Jane\", \"Bob\"]\n",
        "ages: List[int] = [30, 25, 35]\n",
        "\n",
        "for name, age in zip(names, ages):\n",
        "    print(f\"{name} is {age} years old\")"
      ],
      "metadata": {
        "colab": {
          "base_uri": "https://localhost:8080/"
        },
        "id": "TbTnpzOeFR8M",
        "outputId": "8ed35001-dcea-4be6-c3c2-7486ec46b661"
      },
      "execution_count": null,
      "outputs": [
        {
          "output_type": "stream",
          "name": "stdout",
          "text": [
            "John is 30 years old\n",
            "Jane is 25 years old\n",
            "Bob is 35 years old\n"
          ]
        }
      ]
    },
    {
      "cell_type": "code",
      "source": [],
      "metadata": {
        "id": "1_B3zw9pFfbN"
      },
      "execution_count": null,
      "outputs": []
    }
  ]
}