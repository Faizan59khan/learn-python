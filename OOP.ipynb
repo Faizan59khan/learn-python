{
  "nbformat": 4,
  "nbformat_minor": 0,
  "metadata": {
    "colab": {
      "provenance": [],
      "toc_visible": true,
      "authorship_tag": "ABX9TyM6rOFzsO3m2y5Fc/wsB+Cw",
      "include_colab_link": true
    },
    "kernelspec": {
      "name": "python3",
      "display_name": "Python 3"
    },
    "language_info": {
      "name": "python"
    }
  },
  "cells": [
    {
      "cell_type": "markdown",
      "metadata": {
        "id": "view-in-github",
        "colab_type": "text"
      },
      "source": [
        "<a href=\"https://colab.research.google.com/github/Faizan59khan/learn-python/blob/master/OOP.ipynb\" target=\"_parent\"><img src=\"https://colab.research.google.com/assets/colab-badge.svg\" alt=\"Open In Colab\"/></a>"
      ]
    },
    {
      "cell_type": "code",
      "execution_count": null,
      "metadata": {
        "colab": {
          "base_uri": "https://localhost:8080/"
        },
        "id": "wuxVe_NMUdTB",
        "outputId": "5c2d9935-cc90-43e7-8ad6-438f5ceab5b9"
      },
      "outputs": [
        {
          "output_type": "stream",
          "name": "stdout",
          "text": [
            "Faizan\n"
          ]
        }
      ],
      "source": [
        "class Student():\n",
        "  def __init__(self, name: str, age: int, course: str) -> None:\n",
        "    self.name = name\n",
        "    self.age = age\n",
        "    self.course = course\n",
        "\n",
        "Student1: Student = Student(\"Faizan\", 24, \"Math\")\n",
        "print(Student1.name)"
      ]
    },
    {
      "cell_type": "code",
      "source": [
        "# Employee class serves as the base class with basic attributes such as name, age, and role.\n",
        "# Designer and Developer classes inherit from the Employee class, inheriting its attributes and methods.\n",
        "# Each subclass (Designer and Developer) adds its own specific attributes (design_tool and programming_language)\n",
        "# and overrides the display_info method to include its specific information.\n",
        "# This demonstrates the concept of inheritance, where the subclasses inherit properties and behaviors from the base class (Employee).\n",
        "# Encapsulation is demonstrated by the use of instance variables (attributes) which are accessed and modified through methods (__init__ and display_info).\n",
        "# Abstraction is seen in the fact that the internal implementation details of the classes are hidden from the user,\n",
        "# who interacts with them through well-defined methods (display_info).\n",
        "# Polymorphism is illustrated through the display_info method, which behaves differently based on the type of object it is called on.\n",
        "\n",
        "class Employee:\n",
        "    def __init__(self, name, age, role):\n",
        "        self.name = name\n",
        "        self.age = age\n",
        "        self.role = role\n",
        "\n",
        "    def display_info(self):\n",
        "        print(f\"Name: {self.name}, Age: {self.age}, Role: {self.role}\")\n",
        "\n",
        "class Designer(Employee):\n",
        "    def __init__(self, name, age, role, design_tool):\n",
        "        super().__init__(name, age, role)\n",
        "        self.design_tool = design_tool\n",
        "\n",
        "    def display_info(self):\n",
        "        super().display_info()\n",
        "        print(f\"Design Tool: {self.design_tool}\")\n",
        "\n",
        "class Developer(Employee):\n",
        "    def __init__(self, name, age, role, programming_language):\n",
        "        super().__init__(name, age, role)\n",
        "        self.programming_language = programming_language\n",
        "\n",
        "    def display_info(self):\n",
        "        super().display_info()\n",
        "        print(f\"Programming Language: {self.programming_language}\")\n",
        "\n",
        "\n",
        "# Example usage:\n",
        "employee1 = Employee(\"John\", 30, \"Manager\")\n",
        "employee2 = Designer(\"Alice\", 25, \"Designer\", \"Adobe Photoshop\")\n",
        "employee3 = Developer(\"Bob\", 28, \"Developer\", \"Python\")\n",
        "\n",
        "employee1.display_info()\n",
        "employee2.display_info()\n",
        "employee3.display_info()\n"
      ],
      "metadata": {
        "colab": {
          "base_uri": "https://localhost:8080/"
        },
        "id": "t35qhJwbUoDV",
        "outputId": "177a82c3-d0ab-4c1f-8261-8ad550a8a4b0"
      },
      "execution_count": null,
      "outputs": [
        {
          "output_type": "stream",
          "name": "stdout",
          "text": [
            "Name: John, Age: 30, Role: Manager\n",
            "Name: Alice, Age: 25, Role: Designer\n",
            "Design Tool: Adobe Photoshop\n",
            "Name: Bob, Age: 28, Role: Developer\n",
            "Programming Language: Python\n"
          ]
        }
      ]
    },
    {
      "cell_type": "code",
      "source": [
        "#Method Overloading\n",
        "from typing import Union, overload\n",
        "\n",
        "class Adder:\n",
        "    @overload\n",
        "    def add(self, x: int, y: int) -> int:\n",
        "        ...\n",
        "\n",
        "    @overload\n",
        "    def add(self, x: float, y: float) -> float:\n",
        "        ...\n",
        "\n",
        "    @overload\n",
        "    def add(self, x: str, y: str) -> str:\n",
        "        ...\n",
        "\n",
        "\n",
        "    def add(self, x: Union[int, float, str], y: Union[int, float, str]) -> Union[int, float, str]:\n",
        "        if isinstance(x, int) and isinstance(y, int):\n",
        "            return x + y\n",
        "        elif isinstance(x, float) and isinstance(y, float):\n",
        "            return x + y\n",
        "        elif isinstance(x, str) and isinstance(y, str):\n",
        "            return x + y\n",
        "        else:\n",
        "            raise TypeError(\"Invalid argument types!\")\n",
        "\n",
        "# Usage examples\n",
        "adder = Adder()\n",
        "result1 = adder.add(1, 2)  # Should return 3\n",
        "result2 = adder.add(1.5, 2.5)  # Should return 4.0\n",
        "result3 = adder.add(\"Hello, \", \"world!\")  # Should return \"Hello, world!\"\n",
        "\n",
        "print(result1)\n",
        "print(result2)\n",
        "print(result3)\n",
        "\n",
        "# Overridding & polymorphism"
      ],
      "metadata": {
        "id": "j2_SnZoaYZoe",
        "colab": {
          "base_uri": "https://localhost:8080/"
        },
        "outputId": "e1551a0c-77af-470f-a80f-dfd264968eae"
      },
      "execution_count": 2,
      "outputs": [
        {
          "output_type": "stream",
          "name": "stdout",
          "text": [
            "3\n",
            "4.0\n",
            "Hello, world!\n"
          ]
        }
      ]
    },
    {
      "cell_type": "code",
      "source": [
        "#Multiple Inheritance\n",
        "class Mother:\n",
        "    def __init__(self,name:str) -> None:\n",
        "        self.name : str = name\n",
        "        self.eye_color : str = \"blue\"\n",
        "\n",
        "    def speaking(self, words : str )->str:\n",
        "        return f\"Monther Speaking function: {words}\"\n",
        "\n",
        "class Father:\n",
        "    def __init__(self, name:str)->None:\n",
        "        self.name : str = name\n",
        "        self.height : str = \"6 Feet\"\n",
        "\n",
        "    def speaking(self, words : str )->str:\n",
        "        return f\"Father Speaking function: {words}\"\n",
        "\n",
        "class Child(Father, Mother):\n",
        "    def __init__(self, mother_name : str, father_name : str , child_name: str)->None:\n",
        "        Mother.__init__(self, mother_name)\n",
        "        Father.__init__(self, father_name)\n",
        "        self.child_name : str = child_name\n",
        "\n",
        "qasim : Child = Child(\"Naseem Bano\", \"Muhammad Aslam\",\"Muhammad Qasim\")\n",
        "\n",
        "print(f\"object height {qasim.height}\")\n",
        "print(f\"object eye color {qasim.eye_color}\")\n",
        "print(qasim.speaking(\"Pakistan zinda bad\")) #should return Father speaking function as first periority is given to first extended class"
      ],
      "metadata": {
        "colab": {
          "base_uri": "https://localhost:8080/"
        },
        "id": "0EPHA_J2ePXG",
        "outputId": "c5aa213f-0f70-448c-9afd-489d02f65677"
      },
      "execution_count": 4,
      "outputs": [
        {
          "output_type": "stream",
          "name": "stdout",
          "text": [
            "object height 6 Feet\n",
            "object eye color blue\n",
            "Father Speaking function: Pakistan zinda bad\n"
          ]
        }
      ]
    },
    {
      "cell_type": "code",
      "source": [
        "[i for i in dir(qasim) if \"__\" not in i]"
      ],
      "metadata": {
        "colab": {
          "base_uri": "https://localhost:8080/"
        },
        "id": "ciBxvMPNeacS",
        "outputId": "e5c1f4c7-d74b-4e3d-d614-7cb9bc175275"
      },
      "execution_count": 5,
      "outputs": [
        {
          "output_type": "execute_result",
          "data": {
            "text/plain": [
              "['child_name', 'eye_color', 'height', 'name', 'speaking']"
            ]
          },
          "metadata": {},
          "execution_count": 5
        }
      ]
    },
    {
      "cell_type": "code",
      "source": [
        "#Overridding\n",
        "class Animal():\n",
        "    def eating(self,food : str )->None: #same method\n",
        "        print(f\"Animal is eating {food}\")\n",
        "\n",
        "\n",
        "class Bird(Animal):\n",
        "    def eating(self, food: str) -> None:\n",
        "        print(f\"Bird is eating {food}\")\n",
        "\n",
        "\n",
        "bird : Bird = Bird()\n",
        "bird.eating(\"bread\")\n",
        "\n",
        "animal : Animal = Animal()\n",
        "animal.eating(\"grass\")"
      ],
      "metadata": {
        "colab": {
          "base_uri": "https://localhost:8080/"
        },
        "id": "SlJDXavre6Si",
        "outputId": "f4afd136-0216-4000-dc9f-c0a247e9a309"
      },
      "execution_count": 6,
      "outputs": [
        {
          "output_type": "stream",
          "name": "stdout",
          "text": [
            "Bird is eating bread\n",
            "Animal is eating grass\n"
          ]
        }
      ]
    },
    {
      "cell_type": "code",
      "source": [
        "#Polymorphism\n",
        "animal : Animal = Bird()# run time it will decide which object method it will be run\n",
        "animal.eating(\"grass\")"
      ],
      "metadata": {
        "colab": {
          "base_uri": "https://localhost:8080/"
        },
        "id": "w7BNYFmDfMUq",
        "outputId": "53276ea8-ed8a-4a6c-88ab-e8d5972924de"
      },
      "execution_count": 8,
      "outputs": [
        {
          "output_type": "stream",
          "name": "stdout",
          "text": [
            "Bird is eating grass\n"
          ]
        }
      ]
    },
    {
      "cell_type": "code",
      "source": [
        "#Static Method and Static variable(class variable)\n",
        "class MathOperations:\n",
        "\n",
        "    counter : int = 100\n",
        "    organization : str = \"PIAIC\"\n",
        "\n",
        "    @staticmethod\n",
        "    def add(x: int, y: int) -> int:\n",
        "        \"\"\"Add two numbers.\"\"\"\n",
        "        return x + y\n",
        "\n",
        "    @staticmethod\n",
        "    def multiply(x: int, y: int) -> int:\n",
        "        \"\"\"Multiply two numbers.\"\"\"\n",
        "        return x * y\n",
        "\n",
        "# Using the static methods\n",
        "result_add = MathOperations.add(10, 20)\n",
        "result_multiply = MathOperations.multiply(10, 20)\n",
        "\n",
        "print(\"Addition:\", result_add)\n",
        "print(\"Multiplication:\", result_multiply)\n",
        "\n",
        "print(\"Static variable or Class variable\",MathOperations.organization)"
      ],
      "metadata": {
        "colab": {
          "base_uri": "https://localhost:8080/"
        },
        "id": "bQLRtN5qfYoR",
        "outputId": "f4e08931-d88a-4c51-8ffa-4b2bd88cb7ac"
      },
      "execution_count": 10,
      "outputs": [
        {
          "output_type": "stream",
          "name": "stdout",
          "text": [
            "Addition: 30\n",
            "Multiplication: 200\n",
            "Static variable or Class variable PIAIC\n"
          ]
        }
      ]
    },
    {
      "cell_type": "code",
      "source": [],
      "metadata": {
        "id": "3dVih5vBgHyK"
      },
      "execution_count": null,
      "outputs": []
    }
  ]
}